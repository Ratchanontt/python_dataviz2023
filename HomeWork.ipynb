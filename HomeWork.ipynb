{
  "nbformat": 4,
  "nbformat_minor": 0,
  "metadata": {
    "colab": {
      "provenance": [],
      "toc_visible": true,
      "authorship_tag": "ABX9TyMLVtY3Jneh2ygAmeeGrroJ",
      "include_colab_link": true
    },
    "kernelspec": {
      "name": "python3",
      "display_name": "Python 3"
    },
    "language_info": {
      "name": "python"
    }
  },
  "cells": [
    {
      "cell_type": "markdown",
      "metadata": {
        "id": "view-in-github",
        "colab_type": "text"
      },
      "source": [
        "<a href=\"https://colab.research.google.com/github/Ratchanontt/python_dataviz2023/blob/main/HomeWork.ipynb\" target=\"_parent\"><img src=\"https://colab.research.google.com/assets/colab-badge.svg\" alt=\"Open In Colab\"/></a>"
      ]
    },
    {
      "cell_type": "markdown",
      "source": [
        "# HW 1"
      ],
      "metadata": {
        "id": "qUq43RrI-OXe"
      }
    },
    {
      "cell_type": "markdown",
      "source": [
        "## คำนวณว่า ช่วงเวลาต่อไปนี้ ห่างกันกี่ ชั่วโมง กี่นาที กี่วินาที (print ออกมาให้สวยงาม)\n",
        "\n",
        "\n",
        "*  12:30:15 - 13:41:07\n",
        "*  09:11:50 - 21:30:15\n",
        "*  19:25:30 - 03:10:15\n",
        "\n",
        "\n",
        "\n",
        "\n",
        "\n",
        "\n"
      ],
      "metadata": {
        "id": "pXnO9dEm9o8e"
      }
    },
    {
      "cell_type": "code",
      "source": [
        "#1\n",
        "q1 = '12:30:15'\n",
        "Q1 = q1.split(\":\")\n",
        "hours1 = int(Q1[0])*3600\n",
        "minutes1 = int(Q1[1])*60\n",
        "seconds1 = int(Q1[2])\n",
        "f1 =  hours1 + minutes1 + seconds1\n",
        "\n",
        "q2 = '13:41:07'\n",
        "Q2 = q2.split(\":\")\n",
        "hours2 = int(Q2[0])*3600\n",
        "minutes2 = int(Q2[1])*60\n",
        "seconds2 = int(Q2[2])\n",
        "f2 =  hours2 + minutes2 + seconds2\n",
        "\n",
        "Result1 = f2 - f1\n",
        "hourX = int(Result1/3600)\n",
        "minuteX = int(Result1%3600/60)\n",
        "secondX = int(Result1%60)\n",
        "print(\"Time started 12:30:15\" )\n",
        "print(\"Time finihsed 13:41:07\" )\n",
        "print(f'>>> Time diff is {hourX}:{minuteX}:{secondX} <<<')"
      ],
      "metadata": {
        "colab": {
          "base_uri": "https://localhost:8080/"
        },
        "id": "SF6oW7BwZ8t9",
        "outputId": "706cfd67-1b44-4f6f-c6cd-65a450f671bf"
      },
      "execution_count": null,
      "outputs": [
        {
          "output_type": "stream",
          "name": "stdout",
          "text": [
            "Time started 12:30:15\n",
            "Time finihsed 13:41:07\n",
            ">>> Time diff is 1:10:52 <<<\n"
          ]
        }
      ]
    },
    {
      "cell_type": "code",
      "source": [
        "#2\n",
        "q3 = '09:11:50'\n",
        "Q3 = q3.split(\":\")\n",
        "hours3 = int(Q3[0])*3600\n",
        "minutes3 = int(Q3[1])*60\n",
        "seconds3 = int(Q3[2])\n",
        "f3 =  hours3 + minutes3 + seconds3\n",
        "\n",
        "q4 = '21:30:15'\n",
        "Q4 = q4.split(\":\")\n",
        "hours4 = int(Q4[0])*3600\n",
        "minutes4 = int(Q4[1])*60\n",
        "seconds4 = int(Q4[2])\n",
        "f4 =  hours4 + minutes4 + seconds4\n",
        "\n",
        "Result2 = f4 - f3\n",
        "hourY = int(Result2/3600)\n",
        "minuteY = int(Result2%3600/60)\n",
        "secondY = int(Result2%60)\n",
        "print(\"Time started 09:11:50\" )\n",
        "print(\"Time finihsed 21:30:15\" )\n",
        "print(f'>>> Time diff is {hourY}:{minuteY}:{secondY} <<<')\n"
      ],
      "metadata": {
        "colab": {
          "base_uri": "https://localhost:8080/"
        },
        "id": "VdsO8al2cAGq",
        "outputId": "8d0498f4-eb93-4829-b91f-681fbca308f2"
      },
      "execution_count": null,
      "outputs": [
        {
          "output_type": "stream",
          "name": "stdout",
          "text": [
            "Time started 09:11:50\n",
            "Time finihsed 21:30:15\n",
            ">>> Time diff is 12:18:25 <<<\n"
          ]
        }
      ]
    },
    {
      "cell_type": "code",
      "source": [
        "#3\n",
        "q5 = '19:25:30'\n",
        "Q5 = q5.split(\":\")\n",
        "hours5 = int(Q5[0])*3600\n",
        "minutes5 = int(Q5[1])*60\n",
        "seconds5 = int(Q5[2])\n",
        "f5 =  hours5 + minutes5 + seconds5\n",
        "\n",
        "q6 = '03:10:15'\n",
        "Q6 = q6.split(\":\")\n",
        "hours6 = int(Q6[0])*3600\n",
        "minutes6 = int(Q6[1])*60\n",
        "seconds6 = int(Q6[2])\n",
        "f6 =  hours6 + minutes6 + seconds6 + (24*60*60) #เนื่องจากเกินมา 1 วัน จึงต้องนำมาคูณ\n",
        "\n",
        "Result3 = f6 - f5\n",
        "hourZ = int(Result3/3600)\n",
        "minuteZ = int(Result3%3600/60)\n",
        "secondZ = int(Result3%60)\n",
        "print(\"Time started 19:25:30\" )\n",
        "print(\"Time finihsed 03:10:15\" )\n",
        "print(f'>>> Time diff is {hourZ}:{minuteZ}:{secondZ} <<<')\n"
      ],
      "metadata": {
        "colab": {
          "base_uri": "https://localhost:8080/"
        },
        "id": "Qw3cCKx-igLk",
        "outputId": "f5e9e970-b971-41dd-b094-f8365ca8e7c5"
      },
      "execution_count": null,
      "outputs": [
        {
          "output_type": "stream",
          "name": "stdout",
          "text": [
            "Time started 19:25:30\n",
            "Time finihsed 03:10:15\n",
            ">>> Time diff is 7:44:45 <<<\n"
          ]
        }
      ]
    },
    {
      "cell_type": "markdown",
      "source": [
        "Key"
      ],
      "metadata": {
        "id": "dT5XmwhsADh-"
      }
    },
    {
      "cell_type": "code",
      "source": [
        "from datetime import datetime\n",
        "time1 = '19:25:30'\n",
        "time2 = '03:10:15'\n",
        "\n",
        "fmt = '%H:%M:%S'\n",
        "s = datetime.strptime(time2, fmt) - datetime.strptime(time1, fmt)\n",
        "print( 'เวลา',time1,'-',time2,'ห่างกัน',s )"
      ],
      "metadata": {
        "id": "cRTrL9mzAEQF",
        "outputId": "8b6fd832-8b33-4540-d561-3bff9d28fc13",
        "colab": {
          "base_uri": "https://localhost:8080/"
        }
      },
      "execution_count": null,
      "outputs": [
        {
          "output_type": "stream",
          "name": "stdout",
          "text": [
            "เวลา 19:25:30 - 03:10:15 ห่างกัน -1 day, 7:44:45\n"
          ]
        }
      ]
    },
    {
      "cell_type": "code",
      "source": [
        "# รับค่า\n",
        "q2 = '09:11:50 - 21:30:15'.split(' - ')\n",
        "print(q2)\n",
        "t1 = q2[0].split(':')\n",
        "t2 = q2[1].split(':')\n",
        "\n",
        "t1_cal = [0,0,0]\n",
        "t2_cal = [0,0,0]\n",
        "\n",
        "t1_cal[0] = int(t1[0])\n",
        "t1_cal[1] = int(t1[1])\n",
        "t1_cal[2] = int(t1[2])\n",
        "\n",
        "t2_cal[0] = int(t2[0])+23 #ยืมเวลาของวันมาก่อน\n",
        "t2_cal[1] = int(t2[1])+59 #ยืมของชั่วโมงมาก่อน\n",
        "t2_cal[2] = int(t2[2])+60 #ยืมเวลาของนาทีมาก่อน\n",
        "\n",
        "# calculation process\n",
        "t_diff = [0,0,0]\n",
        "\n",
        "t_diff[2] = (t2_cal[2] - t1_cal[2])\n",
        "t_diff[1] = (t2_cal[1] - t1_cal[1])\n",
        "t_diff[0] = (t2_cal[0] - t1_cal[0])\n",
        "\n",
        "t_ans = [0,0,0]\n",
        "t_ans[2] = t_diff[2]%60\n",
        "t_ans[1] = (t_diff[1] + t_diff[2]//60)%60 #คืนที่ยืมมาโดยการหารปัดเศษ\n",
        "t_ans[0] = (t_diff[0] + (t_diff[1] + t_diff[2])//60)%24 #คืนที่ยืมมาโดยการหารปัดเศษ\n",
        "\n",
        "#output\n",
        "print('-'*55)\n",
        "print(f\"ช่วงเวลาทั้งสองห่างกัน {t_ans[0]} ชั่วโมง {t_ans[1]} นาที {t_ans[2]} วินาที\")\n",
        "print('-'*55)"
      ],
      "metadata": {
        "id": "7s7mFhgwLycQ",
        "outputId": "874c656a-e88e-436c-e102-761967943741",
        "colab": {
          "base_uri": "https://localhost:8080/"
        }
      },
      "execution_count": null,
      "outputs": [
        {
          "output_type": "stream",
          "name": "stdout",
          "text": [
            "['09:11:50', '21:30:15']\n",
            "-------------------------------------------------------\n",
            "ช่วงเวลาทั้งสองห่างกัน 12 ชั่วโมง 18 นาที 25 วินาที\n",
            "-------------------------------------------------------\n"
          ]
        }
      ]
    },
    {
      "cell_type": "markdown",
      "source": [
        "# HW 2\n",
        "\n",
        "\n",
        "\n",
        "\n"
      ],
      "metadata": {
        "id": "P7cRS51m8XqP"
      }
    },
    {
      "cell_type": "markdown",
      "source": [
        "###สร้าง logo พรรคก้าวไกล\n",
        "![MFP_B_Final-01-350x184.png](data:image/png;base64,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)"
      ],
      "metadata": {
        "id": "icx4RgeZ0Buy"
      }
    },
    {
      "cell_type": "code",
      "source": [
        "import numpy as np\n",
        "\n",
        "Phita = np.zeros((25,15))\n",
        "ก้าว = 11\n",
        "ไกล = 88\n",
        "Phita[0:3] = ไกล\n",
        "Phita[3,12:15] = ไกล\n",
        "Phita[4,12:15] = ไกล\n",
        "Phita[5,1:14] = ไกล\n",
        "Phita[6,1:14] = ไกล\n",
        "Phita[7,1:14] = ไกล\n",
        "Phita[8,7:13] = ไกล\n",
        "\n",
        "#สามเหลี่ยมด้านนอก\n",
        "Phita[8,2:7] = ก้าว\n",
        "Phita[9,2:6] = ก้าว\n",
        "Phita[10,2:6] = ก้าว\n",
        "Phita[9,6:13] = ไกล\n",
        "Phita[10,6:13] = ไกล\n",
        "Phita[11,2:5] = ก้าว\n",
        "Phita[12,3:5] = ก้าว\n",
        "Phita[13,3:5] = ก้าว\n",
        "\n",
        "Phita[11,5:13] = ไกล\n",
        "Phita[12,5:12] = ไกล\n",
        "Phita[13,4:12] = ไกล\n",
        "Phita[14,3:12] = ไกล\n",
        "Phita[15,4:11] = ไกล\n",
        "Phita[16,4:11] = ไกล\n",
        "Phita[17,4:11] = ไกล\n",
        "Phita[18,5:10] = ไกล\n",
        "Phita[19,5:10] = ไกล\n",
        "Phita[20,5:10] = ไกล\n",
        "\n",
        "#สามเหลี่ยมด้านใน หรือ เลข 7 ตรงกลาง\n",
        "Phita[3,0:12] = ก้าว\n",
        "Phita[4,1:12] = ก้าว\n",
        "Phita[5,10:12] = ก้าว\n",
        "Phita[6,10:12] = ก้าว\n",
        "Phita[7,10:11] = ก้าว\n",
        "Phita[8,9:11] = ก้าว\n",
        "Phita[9,9:10] = ก้าว\n",
        "Phita[10,8:10] = ก้าว\n",
        "Phita[11,8:10] = ก้าว\n",
        "Phita[12,8:9] = ก้าว\n",
        "Phita[13,7:9] = ก้าว\n",
        "Phita[14,7:8] = ก้าว\n",
        "Phita[15,7:8] = ก้าว\n",
        "Phita[16,6:7] = ก้าว\n",
        "Phita[17,6:7] = ก้าว\n",
        "Phita[18,5:7] = ก้าว\n",
        "Phita[19,5:6] = ก้าว\n",
        "Phita[20,5:6] = ก้าว\n",
        "\n",
        "Phita[21,6:9] = ไกล\n",
        "Phita[22,6:9] = ไกล\n",
        "Phita[23,7] = ไกล\n",
        "Phita[24,7] = ไกล\n",
        "print(Phita)"
      ],
      "metadata": {
        "id": "FFJ_FER8YptH",
        "outputId": "999a57e6-34b4-4a50-99f4-9918b4695413",
        "colab": {
          "base_uri": "https://localhost:8080/"
        }
      },
      "execution_count": 5,
      "outputs": [
        {
          "output_type": "stream",
          "name": "stdout",
          "text": [
            "[[88. 88. 88. 88. 88. 88. 88. 88. 88. 88. 88. 88. 88. 88. 88.]\n",
            " [88. 88. 88. 88. 88. 88. 88. 88. 88. 88. 88. 88. 88. 88. 88.]\n",
            " [88. 88. 88. 88. 88. 88. 88. 88. 88. 88. 88. 88. 88. 88. 88.]\n",
            " [11. 11. 11. 11. 11. 11. 11. 11. 11. 11. 11. 11. 88. 88. 88.]\n",
            " [ 0. 11. 11. 11. 11. 11. 11. 11. 11. 11. 11. 11. 88. 88. 88.]\n",
            " [ 0. 88. 88. 88. 88. 88. 88. 88. 88. 88. 11. 11. 88. 88.  0.]\n",
            " [ 0. 88. 88. 88. 88. 88. 88. 88. 88. 88. 11. 11. 88. 88.  0.]\n",
            " [ 0. 88. 88. 88. 88. 88. 88. 88. 88. 88. 11. 88. 88. 88.  0.]\n",
            " [ 0.  0. 11. 11. 11. 11. 11. 88. 88. 11. 11. 88. 88.  0.  0.]\n",
            " [ 0.  0. 11. 11. 11. 11. 88. 88. 88. 11. 88. 88. 88.  0.  0.]\n",
            " [ 0.  0. 11. 11. 11. 11. 88. 88. 11. 11. 88. 88. 88.  0.  0.]\n",
            " [ 0.  0. 11. 11. 11. 88. 88. 88. 11. 11. 88. 88. 88.  0.  0.]\n",
            " [ 0.  0.  0. 11. 11. 88. 88. 88. 11. 88. 88. 88.  0.  0.  0.]\n",
            " [ 0.  0.  0. 11. 88. 88. 88. 11. 11. 88. 88. 88.  0.  0.  0.]\n",
            " [ 0.  0.  0. 88. 88. 88. 88. 11. 88. 88. 88. 88.  0.  0.  0.]\n",
            " [ 0.  0.  0.  0. 88. 88. 88. 11. 88. 88. 88.  0.  0.  0.  0.]\n",
            " [ 0.  0.  0.  0. 88. 88. 11. 88. 88. 88. 88.  0.  0.  0.  0.]\n",
            " [ 0.  0.  0.  0. 88. 88. 11. 88. 88. 88. 88.  0.  0.  0.  0.]\n",
            " [ 0.  0.  0.  0.  0. 11. 11. 88. 88. 88.  0.  0.  0.  0.  0.]\n",
            " [ 0.  0.  0.  0.  0. 11. 88. 88. 88. 88.  0.  0.  0.  0.  0.]\n",
            " [ 0.  0.  0.  0.  0. 11. 88. 88. 88. 88.  0.  0.  0.  0.  0.]\n",
            " [ 0.  0.  0.  0.  0.  0. 88. 88. 88.  0.  0.  0.  0.  0.  0.]\n",
            " [ 0.  0.  0.  0.  0.  0. 88. 88. 88.  0.  0.  0.  0.  0.  0.]\n",
            " [ 0.  0.  0.  0.  0.  0.  0. 88.  0.  0.  0.  0.  0.  0.  0.]\n",
            " [ 0.  0.  0.  0.  0.  0.  0. 88.  0.  0.  0.  0.  0.  0.  0.]]\n"
          ]
        }
      ]
    },
    {
      "cell_type": "code",
      "source": [
        "new_generation = 11\n",
        "Phita = new_generation * np.ones((25,15))\n",
        "ก้าวไกล = 88\n",
        "\n",
        "# Bar\n",
        "Phita[0:3] = ก้าวไกล\n",
        "\n",
        "# ____\n",
        "Phita[3,12:15] = ก้าวไกล\n",
        "Phita[4,12:15] = ก้าวไกล\n",
        "\n",
        "# /\n",
        "Phita[5,1:10] = ก้าวไกล\n",
        "Phita[5,12:14] = ก้าวไกล\n",
        "Phita[6,1:10] = ก้าวไกล\n",
        "Phita[6,12:14] = ก้าวไกล\n",
        "Phita[7,1:9] = ก้าวไกล\n",
        "Phita[7,11:14] = ก้าวไกล\n",
        "Phita[8,11:13] = ก้าวไกล\n",
        "Phita[9,10:13] = ก้าวไกล\n",
        "Phita[10,10:13] = ก้าวไกล\n",
        "Phita[11,10:13] = ก้าวไกล\n",
        "Phita[12,9:12] = ก้าวไกล\n",
        "Phita[13,9:12] = ก้าวไกล\n",
        "Phita[14,8:12] = ก้าวไกล\n",
        "Phita[15,8:11] = ก้าวไกล\n",
        "Phita[16,7:11] = ก้าวไกล\n",
        "Phita[17,6:11] = ก้าวไกล\n",
        "Phita[18,6:10] = ก้าวไกล\n",
        "\n",
        "#สามเหลี่ยมด้านนอก\n",
        "Phita[8,7:9] = ก้าวไกล\n",
        "Phita[9,6:9] = ก้าวไกล\n",
        "Phita[10,6:8] = ก้าวไกล\n",
        "Phita[11,5:8] = ก้าวไกล\n",
        "Phita[12,5:8] = ก้าวไกล\n",
        "Phita[13,3:7] = ก้าวไกล\n",
        "Phita[14,3:6] = ก้าวไกล\n",
        "Phita[15,4:6] = ก้าวไกล\n",
        "Phita[16,4:5] = ก้าวไกล\n",
        "\n",
        "#มุมล่าง\n",
        "Phita[19,5:10] = ก้าวไกล\n",
        "Phita[20,5:10] = ก้าวไกล\n",
        "Phita[21,6:9] = ก้าวไกล\n",
        "Phita[22,6:9] = ก้าวไกล\n",
        "Phita[23,7] = ก้าวไกล\n",
        "Phita[24,7] = ก้าวไกล\n",
        "print(Phita)"
      ],
      "metadata": {
        "id": "bZvfRtt3CL9b",
        "outputId": "691253f8-4b7e-421e-baee-2ed42bab8f02",
        "colab": {
          "base_uri": "https://localhost:8080/"
        }
      },
      "execution_count": 56,
      "outputs": [
        {
          "output_type": "stream",
          "name": "stdout",
          "text": [
            "[[88. 88. 88. 88. 88. 88. 88. 88. 88. 88. 88. 88. 88. 88. 88.]\n",
            " [88. 88. 88. 88. 88. 88. 88. 88. 88. 88. 88. 88. 88. 88. 88.]\n",
            " [88. 88. 88. 88. 88. 88. 88. 88. 88. 88. 88. 88. 88. 88. 88.]\n",
            " [11. 11. 11. 11. 11. 11. 11. 11. 11. 11. 11. 11. 88. 88. 88.]\n",
            " [11. 11. 11. 11. 11. 11. 11. 11. 11. 11. 11. 11. 88. 88. 88.]\n",
            " [11. 88. 88. 88. 88. 88. 88. 88. 88. 88. 11. 11. 88. 88. 11.]\n",
            " [11. 88. 88. 88. 88. 88. 88. 88. 88. 88. 11. 11. 88. 88. 11.]\n",
            " [11. 88. 88. 88. 88. 88. 88. 88. 88. 11. 11. 88. 88. 88. 11.]\n",
            " [11. 11. 11. 11. 11. 11. 11. 88. 88. 11. 11. 88. 88. 11. 11.]\n",
            " [11. 11. 11. 11. 11. 11. 88. 88. 88. 11. 88. 88. 88. 11. 11.]\n",
            " [11. 11. 11. 11. 11. 11. 88. 88. 11. 11. 88. 88. 88. 11. 11.]\n",
            " [11. 11. 11. 11. 11. 88. 88. 88. 11. 11. 88. 88. 88. 11. 11.]\n",
            " [11. 11. 11. 11. 11. 88. 88. 88. 11. 88. 88. 88. 11. 11. 11.]\n",
            " [11. 11. 11. 88. 88. 88. 88. 11. 11. 88. 88. 88. 11. 11. 11.]\n",
            " [11. 11. 11. 88. 88. 88. 11. 11. 88. 88. 88. 88. 11. 11. 11.]\n",
            " [11. 11. 11. 11. 88. 88. 11. 11. 88. 88. 88. 11. 11. 11. 11.]\n",
            " [11. 11. 11. 11. 88. 11. 11. 88. 88. 88. 88. 11. 11. 11. 11.]\n",
            " [11. 11. 11. 11. 11. 11. 88. 88. 88. 88. 88. 11. 11. 11. 11.]\n",
            " [11. 11. 11. 11. 11. 11. 88. 88. 88. 88. 11. 11. 11. 11. 11.]\n",
            " [11. 11. 11. 11. 11. 88. 88. 88. 88. 88. 11. 11. 11. 11. 11.]\n",
            " [11. 11. 11. 11. 11. 88. 88. 88. 88. 88. 11. 11. 11. 11. 11.]\n",
            " [11. 11. 11. 11. 11. 11. 88. 88. 88. 11. 11. 11. 11. 11. 11.]\n",
            " [11. 11. 11. 11. 11. 11. 88. 88. 88. 11. 11. 11. 11. 11. 11.]\n",
            " [11. 11. 11. 11. 11. 11. 11. 88. 11. 11. 11. 11. 11. 11. 11.]\n",
            " [11. 11. 11. 11. 11. 11. 11. 88. 11. 11. 11. 11. 11. 11. 11.]]\n"
          ]
        }
      ]
    },
    {
      "cell_type": "markdown",
      "source": [
        "# HW 2.5\n"
      ],
      "metadata": {
        "id": "PnA2mCw_IcKh"
      }
    },
    {
      "cell_type": "markdown",
      "source": [
        "### สร้าง Function เพื่อ print logo พรรคก้าวไกล โดย input พื้นหลังได้"
      ],
      "metadata": {
        "id": "NZg6gqh50LMr"
      }
    },
    {
      "cell_type": "code",
      "source": [
        " import numpy as np\n",
        "\n",
        " def print_KaoKlai(num_bg = 0):\n",
        "  new_generation = int(num_bg)\n",
        "  Phita = new_generation * np.ones((25,15))\n",
        "  ก้าวไกล = 88\n",
        "  Phita[0:3] = ก้าวไกล\n",
        "  Phita[3,12:15] = ก้าวไกล\n",
        "  Phita[4,12:15] = ก้าวไกล\n",
        "  Phita[5,1:10] = ก้าวไกล\n",
        "  Phita[5,12:14] = ก้าวไกล\n",
        "  Phita[6,1:10] = ก้าวไกล\n",
        "  Phita[6,12:14] = ก้าวไกล\n",
        "  Phita[7,1:9] = ก้าวไกล\n",
        "  Phita[7,11:14] = ก้าวไกล\n",
        "  Phita[8,7:9] = ก้าวไกล\n",
        "  Phita[8,11:13] = ก้าวไกล\n",
        "  Phita[9,6:9] = ก้าวไกล\n",
        "  Phita[9,10:13] = ก้าวไกล\n",
        "  Phita[10,6:8] = ก้าวไกล\n",
        "  Phita[10,10:13] = ก้าวไกล\n",
        "  Phita[11,5:8] = ก้าวไกล\n",
        "  Phita[11,10:13] = ก้าวไกล\n",
        "  Phita[12,5:8] = ก้าวไกล\n",
        "  Phita[12,9:12] = ก้าวไกล\n",
        "  Phita[13,3:7] = ก้าวไกล\n",
        "  Phita[13,9:12] = ก้าวไกล\n",
        "  Phita[14,3:6] = ก้าวไกล\n",
        "  Phita[14,8:12] = ก้าวไกล\n",
        "  Phita[15,4:6] = ก้าวไกล\n",
        "  Phita[15,8:11] = ก้าวไกล\n",
        "  Phita[16,4:5] = ก้าวไกล\n",
        "  Phita[16,7:11] = ก้าวไกล\n",
        "  Phita[17,6:11] = ก้าวไกล\n",
        "  Phita[18,6:10] = ก้าวไกล\n",
        "  Phita[19,5:10] = ก้าวไกล\n",
        "  Phita[20,5:10] = ก้าวไกล\n",
        "  Phita[21,6:9] = ก้าวไกล\n",
        "  Phita[22,6:9] = ก้าวไกล\n",
        "  Phita[23,7] = ก้าวไกล\n",
        "  Phita[24,7] = ก้าวไกล\n",
        "\n",
        "  print(Phita)\n",
        "\n",
        "#print_KaoKlai(num) <<< คำสั่งรัน Output\n",
        "#แนะนำให้ใช้เลขหลักสิบที่มีเลขโดดเหมือนกัน เช่น 11 จึงจะเห็นผลลัพธ์ชัดเจนที่สุด"
      ],
      "metadata": {
        "id": "U60POHBs_fEC"
      },
      "execution_count": 57,
      "outputs": []
    },
    {
      "cell_type": "code",
      "source": [
        "print_KaoKlai(11)"
      ],
      "metadata": {
        "id": "NLGCvOgCBa_K",
        "outputId": "509cff4f-2b19-429d-f892-07895e20c838",
        "colab": {
          "base_uri": "https://localhost:8080/"
        }
      },
      "execution_count": 52,
      "outputs": [
        {
          "output_type": "stream",
          "name": "stdout",
          "text": [
            "[[88. 88. 88. 88. 88. 88. 88. 88. 88. 88. 88. 88. 88. 88. 88.]\n",
            " [88. 88. 88. 88. 88. 88. 88. 88. 88. 88. 88. 88. 88. 88. 88.]\n",
            " [88. 88. 88. 88. 88. 88. 88. 88. 88. 88. 88. 88. 88. 88. 88.]\n",
            " [11. 11. 11. 11. 11. 11. 11. 11. 11. 11. 11. 11. 88. 88. 88.]\n",
            " [11. 11. 11. 11. 11. 11. 11. 11. 11. 11. 11. 11. 88. 88. 88.]\n",
            " [11. 88. 88. 88. 88. 88. 88. 88. 88. 88. 11. 11. 88. 88. 11.]\n",
            " [11. 88. 88. 88. 88. 88. 88. 88. 88. 88. 11. 11. 88. 88. 11.]\n",
            " [11. 88. 88. 88. 88. 88. 88. 88. 88. 11. 11. 88. 88. 88. 11.]\n",
            " [11. 11. 11. 11. 11. 11. 11. 88. 88. 11. 11. 88. 88. 11. 11.]\n",
            " [11. 11. 11. 11. 11. 11. 88. 88. 88. 11. 88. 88. 88. 11. 11.]\n",
            " [11. 11. 11. 11. 11. 11. 88. 88. 11. 11. 88. 88. 88. 11. 11.]\n",
            " [11. 11. 11. 11. 11. 88. 88. 88. 11. 11. 88. 88. 88. 11. 11.]\n",
            " [11. 11. 11. 11. 11. 88. 88. 88. 11. 88. 88. 88. 11. 11. 11.]\n",
            " [11. 11. 11. 88. 88. 88. 88. 11. 11. 88. 88. 88. 11. 11. 11.]\n",
            " [11. 11. 11. 88. 88. 88. 11. 11. 88. 88. 88. 88. 11. 11. 11.]\n",
            " [11. 11. 11. 11. 88. 88. 11. 11. 88. 88. 88. 11. 11. 11. 11.]\n",
            " [11. 11. 11. 11. 88. 11. 11. 88. 88. 88. 88. 11. 11. 11. 11.]\n",
            " [11. 11. 11. 11. 11. 11. 88. 88. 88. 88. 88. 11. 11. 11. 11.]\n",
            " [11. 11. 11. 11. 11. 11. 88. 88. 88. 88. 11. 11. 11. 11. 11.]\n",
            " [11. 11. 11. 11. 11. 88. 88. 88. 88. 88. 11. 11. 11. 11. 11.]\n",
            " [11. 11. 11. 11. 11. 88. 88. 88. 88. 88. 11. 11. 11. 11. 11.]\n",
            " [11. 11. 11. 11. 11. 11. 88. 88. 88. 11. 11. 11. 11. 11. 11.]\n",
            " [11. 11. 11. 11. 11. 11. 88. 88. 88. 11. 11. 11. 11. 11. 11.]\n",
            " [11. 11. 11. 11. 11. 11. 11. 88. 11. 11. 11. 11. 11. 11. 11.]\n",
            " [11. 11. 11. 11. 11. 11. 11. 88. 11. 11. 11. 11. 11. 11. 11.]]\n"
          ]
        }
      ]
    }
  ]
}