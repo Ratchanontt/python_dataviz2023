{
  "nbformat": 4,
  "nbformat_minor": 0,
  "metadata": {
    "colab": {
      "provenance": [],
      "authorship_tag": "ABX9TyPgCqoudF2u4m+yC8umC41J",
      "include_colab_link": true
    },
    "kernelspec": {
      "name": "python3",
      "display_name": "Python 3"
    },
    "language_info": {
      "name": "python"
    }
  },
  "cells": [
    {
      "cell_type": "markdown",
      "metadata": {
        "id": "view-in-github",
        "colab_type": "text"
      },
      "source": [
        "<a href=\"https://colab.research.google.com/github/Ratchanontt/python_dataviz2023/blob/main/python_slicing.ipynb\" target=\"_parent\"><img src=\"https://colab.research.google.com/assets/colab-badge.svg\" alt=\"Open In Colab\"/></a>"
      ]
    },
    {
      "cell_type": "markdown",
      "source": [
        "#Quiz 2\n",
        "กำหนด list เป็นประโยคคำว่า \"Department of Statistics, Faculty of Science, Khon Kaen University, Thailand\"\n"
      ],
      "metadata": {
        "id": "bzQvCRbV2d1m"
      }
    },
    {
      "cell_type": "markdown",
      "source": [
        "1. ตัดมาเฉพาะคำว่า Faculty of Science\n",
        "2. ตัดแบบเว้นทีละ 3 ตัวอักษร\n",
        "3. ตัดคำว่า Khon Kaen University ออกมาแล้วเขียนกลับหลัง"
      ],
      "metadata": {
        "id": "eH1RjsbL2iTN"
      }
    },
    {
      "cell_type": "code",
      "source": [
        "list_n = \"Department of Statistics, Faculty of Science, Khon Kaen University, Thailand\""
      ],
      "metadata": {
        "id": "IXAn3t1A2cY_"
      },
      "execution_count": 1,
      "outputs": []
    },
    {
      "cell_type": "code",
      "source": [
        "list_n[26:44]"
      ],
      "metadata": {
        "colab": {
          "base_uri": "https://localhost:8080/",
          "height": 36
        },
        "id": "lpxcfnSB3O8u",
        "outputId": "84a24f8a-eb8b-41ab-9c40-34b1a7c755b2"
      },
      "execution_count": 3,
      "outputs": [
        {
          "output_type": "execute_result",
          "data": {
            "text/plain": [
              "'Faculty of Science'"
            ],
            "application/vnd.google.colaboratory.intrinsic+json": {
              "type": "string"
            }
          },
          "metadata": {},
          "execution_count": 3
        }
      ]
    },
    {
      "cell_type": "code",
      "source": [
        "list_n[:77:3]"
      ],
      "metadata": {
        "colab": {
          "base_uri": "https://localhost:8080/",
          "height": 36
        },
        "id": "8qhgaCdN3O2e",
        "outputId": "d6467bdb-b75c-4590-b9bc-176a588015f1"
      },
      "execution_count": 7,
      "outputs": [
        {
          "output_type": "execute_result",
          "data": {
            "text/plain": [
              "'Damtftii,al  ic oKnnei,hld'"
            ],
            "application/vnd.google.colaboratory.intrinsic+json": {
              "type": "string"
            }
          },
          "metadata": {},
          "execution_count": 7
        }
      ]
    },
    {
      "cell_type": "code",
      "source": [
        "list_n[-11:45:-1]"
      ],
      "metadata": {
        "colab": {
          "base_uri": "https://localhost:8080/",
          "height": 36
        },
        "id": "2WOk59cc3Otf",
        "outputId": "009d3cab-9d44-4df0-f6be-baf86d44168f"
      },
      "execution_count": 22,
      "outputs": [
        {
          "output_type": "execute_result",
          "data": {
            "text/plain": [
              "'ytisrevinU neaK nohK'"
            ],
            "application/vnd.google.colaboratory.intrinsic+json": {
              "type": "string"
            }
          },
          "metadata": {},
          "execution_count": 22
        }
      ]
    }
  ]
}